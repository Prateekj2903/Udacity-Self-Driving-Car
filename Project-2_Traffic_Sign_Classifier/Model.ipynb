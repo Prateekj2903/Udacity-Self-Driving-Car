{
 "cells": [
  {
   "cell_type": "code",
   "execution_count": 2,
   "metadata": {},
   "outputs": [],
   "source": [
    "import os\n",
    "import cv2\n",
    "import pickle\n",
    "import numpy as np\n",
    "import matplotlib.pyplot as plt\n",
    "%matplotlib inline\n",
    "\n",
    "from sklearn.cross_validation import train_test_split\n",
    "\n",
    "import keras\n",
    "from keras.models import Sequential\n",
    "from keras.layers import Conv2D, MaxPooling2D, Dropout, Flatten, Dense\n",
    "from keras.preprocessing.image import ImageDataGenerator"
   ]
  },
  {
   "cell_type": "code",
   "execution_count": 3,
   "metadata": {},
   "outputs": [],
   "source": [
    "cwd = os.getcwd()\n",
    "train_file = os.path.join(cwd, \"traffic-signs-data/train.p\")\n",
    "test_file = os.path.join(cwd, \"traffic-signs-data/test.p\")\n",
    "\n",
    "img_h, img_w = 32, 32"
   ]
  },
  {
   "cell_type": "code",
   "execution_count": 4,
   "metadata": {},
   "outputs": [],
   "source": [
    "with open(train_file, 'rb') as f:\n",
    "    train = pickle.load(f)\n",
    "with open(test_file, 'rb') as f:\n",
    "    test = pickle.load(f)"
   ]
  },
  {
   "cell_type": "code",
   "execution_count": 5,
   "metadata": {
    "scrolled": true
   },
   "outputs": [
    {
     "data": {
      "text/plain": [
       "(dict_keys(['sizes', 'coords', 'features', 'labels']),\n",
       " dict_keys(['sizes', 'coords', 'features', 'labels']))"
      ]
     },
     "execution_count": 5,
     "metadata": {},
     "output_type": "execute_result"
    }
   ],
   "source": [
    "train.keys(), test.keys()"
   ]
  },
  {
   "cell_type": "code",
   "execution_count": 6,
   "metadata": {},
   "outputs": [],
   "source": [
    "train_images, train_labels = train['features'], train['labels']\n",
    "test_images, test_labels = test['features'], test['labels']"
   ]
  },
  {
   "cell_type": "code",
   "execution_count": 7,
   "metadata": {},
   "outputs": [],
   "source": [
    "def preprocess(images, equalize_hist=True):\n",
    "    clahe = cv2.createCLAHE(clipLimit=2.0, tileGridSize=(8,8))\n",
    "    preprocessed_images = np.expand_dims(np.zeros_like(images)[:, :, :, 0], 3)\n",
    "    for i in range(len(images)):\n",
    "        img = cv2.cvtColor(images[i], cv2.COLOR_RGB2YUV)[:, :, 0]\n",
    "        if equalize_hist:\n",
    "#             img = cv2.equalizeHist(img)\n",
    "            img = clahe.apply(img)\n",
    "        preprocessed_images[i] = np.expand_dims(img, 2)\n",
    "    preprocessed_images = np.float32(preprocessed_images)\n",
    "#     images -= np.mean(images, axis=0)\n",
    "#     images /= (np.std(images, axis=0) + np.finfo('float32').eps)\n",
    "    preprocessed_images = (preprocessed_images/127.5) - 1\n",
    "    return preprocessed_images"
   ]
  },
  {
   "cell_type": "code",
   "execution_count": 8,
   "metadata": {},
   "outputs": [],
   "source": [
    "train_preprocessed_images = preprocess(train_images)\n",
    "test_preprocessed_images = preprocess(test_images)"
   ]
  },
  {
   "cell_type": "code",
   "execution_count": 10,
   "metadata": {},
   "outputs": [
    {
     "data": {
      "text/plain": [
       "((39209, 32, 32, 1), (12630, 32, 32, 1))"
      ]
     },
     "execution_count": 10,
     "metadata": {},
     "output_type": "execute_result"
    }
   ],
   "source": [
    "train_preprocessed_images.shape, test_preprocessed_images.shape"
   ]
  },
  {
   "cell_type": "code",
   "execution_count": null,
   "metadata": {},
   "outputs": [],
   "source": []
  },
  {
   "cell_type": "code",
   "execution_count": 11,
   "metadata": {},
   "outputs": [],
   "source": [
    "def create_model(num_classes, input_shape=(32, 32, 1), lr=0.0001):\n",
    "    model = Sequential()\n",
    "    model.add(Conv2D(filters=64, kernel_size=(5,5), activation='relu', input_shape=input_shape))\n",
    "    model.add(Conv2D(filters=64, kernel_size=(5,5), activation='relu'))\n",
    "    model.add(MaxPooling2D(pool_size=(2,2)))\n",
    "    model.add(Dropout(0.5))\n",
    "\n",
    "    model.add(Conv2D(filters=128, kernel_size=(3,3), activation='relu'))\n",
    "    model.add(Conv2D(filters=128, kernel_size=(3,3), activation='relu'))\n",
    "    model.add(MaxPooling2D(pool_size=(2,2)))\n",
    "    model.add(Dropout(0.5))\n",
    "\n",
    "    model.add(Flatten())\n",
    "    model.add(Dense(units=1024, activation='relu'))\n",
    "    model.add(Dense(units=512, activation='relu'))\n",
    "    model.add(Dense(units=128, activation='relu'))\n",
    "    model.add(Dense(units=43, activation='softmax'))\n",
    "    print(model.summary())\n",
    "\n",
    "    adam = keras.optimizers.Adam(lr=lr)\n",
    "    model.compile(optimizer=adam, loss='categorical_crossentropy', metrics=['accuracy'])\n",
    "\n",
    "    return model"
   ]
  },
  {
   "cell_type": "code",
   "execution_count": 12,
   "metadata": {},
   "outputs": [
    {
     "name": "stdout",
     "output_type": "stream",
     "text": [
      "_________________________________________________________________\n",
      "Layer (type)                 Output Shape              Param #   \n",
      "=================================================================\n",
      "conv2d_1 (Conv2D)            (None, 28, 28, 64)        1664      \n",
      "_________________________________________________________________\n",
      "conv2d_2 (Conv2D)            (None, 24, 24, 64)        102464    \n",
      "_________________________________________________________________\n",
      "max_pooling2d_1 (MaxPooling2 (None, 12, 12, 64)        0         \n",
      "_________________________________________________________________\n",
      "dropout_1 (Dropout)          (None, 12, 12, 64)        0         \n",
      "_________________________________________________________________\n",
      "conv2d_3 (Conv2D)            (None, 10, 10, 128)       73856     \n",
      "_________________________________________________________________\n",
      "conv2d_4 (Conv2D)            (None, 8, 8, 128)         147584    \n",
      "_________________________________________________________________\n",
      "max_pooling2d_2 (MaxPooling2 (None, 4, 4, 128)         0         \n",
      "_________________________________________________________________\n",
      "dropout_2 (Dropout)          (None, 4, 4, 128)         0         \n",
      "_________________________________________________________________\n",
      "flatten_1 (Flatten)          (None, 2048)              0         \n",
      "_________________________________________________________________\n",
      "dense_1 (Dense)              (None, 1024)              2098176   \n",
      "_________________________________________________________________\n",
      "dense_2 (Dense)              (None, 512)               524800    \n",
      "_________________________________________________________________\n",
      "dense_3 (Dense)              (None, 128)               65664     \n",
      "_________________________________________________________________\n",
      "dense_4 (Dense)              (None, 43)                5547      \n",
      "=================================================================\n",
      "Total params: 3,019,755\n",
      "Trainable params: 3,019,755\n",
      "Non-trainable params: 0\n",
      "_________________________________________________________________\n",
      "None\n"
     ]
    }
   ],
   "source": [
    "input_shape = (img_h, img_w, 1)\n",
    "model = create_model(num_classes=43, input_shape=input_shape)"
   ]
  },
  {
   "cell_type": "code",
   "execution_count": null,
   "metadata": {},
   "outputs": [],
   "source": []
  },
  {
   "cell_type": "code",
   "execution_count": 14,
   "metadata": {},
   "outputs": [
    {
     "data": {
      "text/plain": [
       "((33327, 32, 32, 1), (5882, 32, 32, 1))"
      ]
     },
     "execution_count": 14,
     "metadata": {},
     "output_type": "execute_result"
    }
   ],
   "source": [
    "val_size = 0.15\n",
    "\n",
    "train_labels_one_hot = keras.utils.to_categorical(train_labels, num_classes=43)\n",
    "\n",
    "x_train, x_val, y_train, y_val = train_test_split(train_preprocessed_images, train_labels_one_hot, test_size=val_size)\n",
    "x_train.shape, x_val.shape"
   ]
  },
  {
   "cell_type": "code",
   "execution_count": 15,
   "metadata": {},
   "outputs": [],
   "source": [
    "train_generator = ImageDataGenerator(rotation_range=15., zoom_range=0.2, width_shift_range=0.1, height_shift_range=0.1)\n",
    "val_generator = ImageDataGenerator()\n",
    "\n",
    "train_generator.fit(x_train)\n",
    "val_generator.fit(x_val)"
   ]
  },
  {
   "cell_type": "code",
   "execution_count": 16,
   "metadata": {},
   "outputs": [
    {
     "name": "stdout",
     "output_type": "stream",
     "text": [
      "Epoch 1/20\n",
      "1042/1041 [==============================] - 23s 22ms/step - loss: 2.3987 - acc: 0.3290 - val_loss: 0.8969 - val_acc: 0.7101\n",
      "Epoch 2/20\n",
      "1042/1041 [==============================] - 18s 17ms/step - loss: 1.1262 - acc: 0.6519 - val_loss: 0.2952 - val_acc: 0.9109\n",
      "Epoch 3/20\n",
      "1042/1041 [==============================] - 21s 20ms/step - loss: 0.7122 - acc: 0.7724 - val_loss: 0.1569 - val_acc: 0.9538\n",
      "Epoch 4/20\n",
      "1042/1041 [==============================] - 23s 22ms/step - loss: 0.5075 - acc: 0.8353 - val_loss: 0.1051 - val_acc: 0.9691\n",
      "Epoch 5/20\n",
      "1042/1041 [==============================] - 26s 25ms/step - loss: 0.3939 - acc: 0.8709 - val_loss: 0.0727 - val_acc: 0.9777\n",
      "Epoch 6/20\n",
      "1042/1041 [==============================] - 33s 32ms/step - loss: 0.3270 - acc: 0.8956 - val_loss: 0.0589 - val_acc: 0.9821\n",
      "Epoch 7/20\n",
      "1042/1041 [==============================] - 31s 30ms/step - loss: 0.2722 - acc: 0.9116 - val_loss: 0.0432 - val_acc: 0.9881\n",
      "Epoch 8/20\n",
      "1042/1041 [==============================] - 32s 30ms/step - loss: 0.2409 - acc: 0.9217 - val_loss: 0.0463 - val_acc: 0.9837\n",
      "Epoch 9/20\n",
      "1042/1041 [==============================] - 26s 25ms/step - loss: 0.2149 - acc: 0.9307 - val_loss: 0.0471 - val_acc: 0.9847\n",
      "Epoch 10/20\n",
      "1042/1041 [==============================] - 26s 25ms/step - loss: 0.1843 - acc: 0.9396 - val_loss: 0.0335 - val_acc: 0.9895\n",
      "Epoch 11/20\n",
      "1042/1041 [==============================] - 27s 26ms/step - loss: 0.1690 - acc: 0.9452 - val_loss: 0.0263 - val_acc: 0.9908\n",
      "Epoch 12/20\n",
      "1042/1041 [==============================] - 22s 21ms/step - loss: 0.1555 - acc: 0.9498 - val_loss: 0.0206 - val_acc: 0.9940\n",
      "Epoch 13/20\n",
      "1042/1041 [==============================] - 26s 25ms/step - loss: 0.1416 - acc: 0.9541 - val_loss: 0.0193 - val_acc: 0.9934\n",
      "Epoch 14/20\n",
      "1042/1041 [==============================] - 29s 28ms/step - loss: 0.1336 - acc: 0.9560 - val_loss: 0.0157 - val_acc: 0.9959\n",
      "Epoch 15/20\n",
      "1042/1041 [==============================] - 28s 27ms/step - loss: 0.1226 - acc: 0.9597 - val_loss: 0.0196 - val_acc: 0.9946\n",
      "Epoch 16/20\n",
      "1042/1041 [==============================] - 25s 24ms/step - loss: 0.1170 - acc: 0.9620 - val_loss: 0.0155 - val_acc: 0.9952\n",
      "Epoch 17/20\n",
      "1042/1041 [==============================] - 25s 24ms/step - loss: 0.1103 - acc: 0.9647 - val_loss: 0.0198 - val_acc: 0.9934\n",
      "Epoch 18/20\n",
      "1042/1041 [==============================] - 28s 27ms/step - loss: 0.1030 - acc: 0.9659 - val_loss: 0.0115 - val_acc: 0.9963\n",
      "Epoch 19/20\n",
      "1042/1041 [==============================] - 26s 25ms/step - loss: 0.0946 - acc: 0.9690 - val_loss: 0.0138 - val_acc: 0.9947\n",
      "Epoch 20/20\n",
      "1042/1041 [==============================] - 27s 26ms/step - loss: 0.0922 - acc: 0.9712 - val_loss: 0.0105 - val_acc: 0.9968\n"
     ]
    },
    {
     "data": {
      "text/plain": [
       "<keras.callbacks.History at 0x21a87501208>"
      ]
     },
     "execution_count": 16,
     "metadata": {},
     "output_type": "execute_result"
    }
   ],
   "source": [
    "batch_size = 32\n",
    "epochs = 20\n",
    "model.fit_generator(train_generator.flow(x_train, y_train, batch_size=batch_size),\\\n",
    "                    steps_per_epoch=len(x_train)/ batch_size, epochs=epochs, \\\n",
    "                    validation_data=val_generator.flow(x_val, y_val, batch_size=batch_size), \\\n",
    "                    validation_steps=len(x_val)/batch_size)"
   ]
  },
  {
   "cell_type": "code",
   "execution_count": 34,
   "metadata": {},
   "outputs": [],
   "source": [
    "predicted = model.predict(test_preprocessed_images)"
   ]
  },
  {
   "cell_type": "code",
   "execution_count": 35,
   "metadata": {},
   "outputs": [
    {
     "data": {
      "text/plain": [
       "(12630,)"
      ]
     },
     "execution_count": 35,
     "metadata": {},
     "output_type": "execute_result"
    }
   ],
   "source": [
    "predicted = np.argmax(predicted, axis=1)\n",
    "predicted.shape"
   ]
  },
  {
   "cell_type": "code",
   "execution_count": 36,
   "metadata": {},
   "outputs": [],
   "source": [
    "import sklearn\n",
    "accuracy_score = sklearn.metrics.accuracy_score(y_true=test_labels, y_pred=predicted)"
   ]
  },
  {
   "cell_type": "code",
   "execution_count": 37,
   "metadata": {},
   "outputs": [
    {
     "data": {
      "text/plain": [
       "0.9851148060174189"
      ]
     },
     "execution_count": 37,
     "metadata": {},
     "output_type": "execute_result"
    }
   ],
   "source": [
    "accuracy_score"
   ]
  },
  {
   "cell_type": "code",
   "execution_count": null,
   "metadata": {},
   "outputs": [],
   "source": []
  }
 ],
 "metadata": {
  "kernelspec": {
   "display_name": "Python 3",
   "language": "python",
   "name": "python3"
  },
  "language_info": {
   "codemirror_mode": {
    "name": "ipython",
    "version": 3
   },
   "file_extension": ".py",
   "mimetype": "text/x-python",
   "name": "python",
   "nbconvert_exporter": "python",
   "pygments_lexer": "ipython3",
   "version": "3.6.5"
  }
 },
 "nbformat": 4,
 "nbformat_minor": 2
}
