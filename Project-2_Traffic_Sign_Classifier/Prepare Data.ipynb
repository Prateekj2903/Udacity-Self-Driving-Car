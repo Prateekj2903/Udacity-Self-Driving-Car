{
 "cells": [
  {
   "cell_type": "code",
   "execution_count": 1,
   "metadata": {},
   "outputs": [],
   "source": [
    "import cv2\n",
    "import matplotlib.pyplot as plt\n",
    "import os\n",
    "import pickle\n",
    "import numpy as np"
   ]
  },
  {
   "cell_type": "code",
   "execution_count": 17,
   "metadata": {},
   "outputs": [],
   "source": [
    "cwd = os.getcwd()\n",
    "train_images_dir = os.path.join(cwd, \"train_images\")\n",
    "train_file = os.path.join(cwd, \"traffic-signs-data/train.p\")\n",
    "\n",
    "test_images_dir = os.path.join(cwd, \"test_images\")\n",
    "test_file = os.path.join(cwd, \"traffic-signs-data/test.p\")\n",
    "\n",
    "img_h, img_w = 32, 32"
   ]
  },
  {
   "cell_type": "code",
   "execution_count": null,
   "metadata": {},
   "outputs": [],
   "source": []
  },
  {
   "cell_type": "code",
   "execution_count": 6,
   "metadata": {},
   "outputs": [],
   "source": [
    "def preprocess_train_images(images_dir):\n",
    "    images = np.zeros(shape=(1, img_h, img_w, 3))\n",
    "    labels = np.zeros(shape=(1))\n",
    "    for label in os.listdir(images_dir):\n",
    "        print(label)\n",
    "        curr_label_dir = os.path.join(images_dir, label)\n",
    "        curr_label_image_names = os.listdir(curr_label_dir)\n",
    "        for filename in curr_label_image_names:\n",
    "            file, extension = os.path.splitext(filename)\n",
    "            if extension == '.ppm':\n",
    "                img = cv2.cvtColor(cv2.imread(os.path.join(curr_label_dir, filename)), cv2.COLOR_BGR2RGB)\n",
    "                if img.shape[0] < img_h and img.shape[1] < img_w:\n",
    "                    interpolation = cv2.INTER_CUBIC\n",
    "                else:\n",
    "                    interpolation = cv2.INTER_AREA\n",
    "                img = cv2.resize(img, (img_h, img_w), interpolation=interpolation)\n",
    "                img = img.reshape((1, img_h, img_w, 3))\n",
    "\n",
    "                images = np.vstack((images, img))\n",
    "                labels = np.hstack((labels, int(label)))\n",
    "    return images[1:], labels[1:]"
   ]
  },
  {
   "cell_type": "code",
   "execution_count": 7,
   "metadata": {
    "scrolled": true
   },
   "outputs": [
    {
     "name": "stdout",
     "output_type": "stream",
     "text": [
      "00020\n",
      "00000\n",
      "00001\n",
      "00002\n",
      "00003\n",
      "00004\n",
      "00005\n",
      "00006\n",
      "00007\n",
      "00008\n",
      "00009\n",
      "00010\n",
      "00011\n",
      "00012\n",
      "00013\n",
      "00014\n",
      "00015\n",
      "00016\n",
      "00017\n",
      "00018\n",
      "00019\n",
      "00021\n",
      "00022\n",
      "00023\n",
      "00024\n",
      "00025\n",
      "00026\n",
      "00027\n",
      "00028\n",
      "00029\n",
      "00030\n",
      "00031\n",
      "00032\n",
      "00033\n",
      "00034\n",
      "00035\n",
      "00036\n",
      "00037\n",
      "00038\n",
      "00039\n",
      "00040\n",
      "00041\n",
      "00042\n"
     ]
    }
   ],
   "source": [
    "train_images, train_labels = preprocess_train_images(train_images_dir)"
   ]
  },
  {
   "cell_type": "code",
   "execution_count": 10,
   "metadata": {},
   "outputs": [
    {
     "data": {
      "text/plain": [
       "dict_keys(['train_images', 'train_labels'])"
      ]
     },
     "execution_count": 10,
     "metadata": {},
     "output_type": "execute_result"
    }
   ],
   "source": [
    "train_images.shape, train_labels.shape\n",
    "train_dict = {'train_images':train_images, 'train_labels':train_labels}\n",
    "train_dict.keys()"
   ]
  },
  {
   "cell_type": "code",
   "execution_count": 12,
   "metadata": {},
   "outputs": [],
   "source": [
    "with open(train_file, mode='wb') as f:\n",
    "    pickle.dump(train_dict, f)"
   ]
  },
  {
   "cell_type": "code",
   "execution_count": null,
   "metadata": {},
   "outputs": [],
   "source": []
  },
  {
   "cell_type": "code",
   "execution_count": 18,
   "metadata": {},
   "outputs": [],
   "source": [
    "def preprocess_test_images(images_dir):\n",
    "    images = np.zeros(shape=(1, img_h, img_w, 3))\n",
    "    for filename in os.listdir(images_dir):\n",
    "        file, extension = os.path.splitext(filename)\n",
    "        if extension == '.ppm':\n",
    "            img = cv2.cvtColor(cv2.imread(os.path.join(images_dir, filename)), cv2.COLOR_BGR2RGB)\n",
    "            if img.shape[0] < img_h and img.shape[1] < img_w:\n",
    "                interpolation = cv2.INTER_CUBIC\n",
    "            else:\n",
    "                interpolation = cv2.INTER_AREA\n",
    "            img = cv2.resize(img, (img_h, img_w), interpolation=interpolation)\n",
    "            img = img.reshape((1, img_h, img_w, 3))\n",
    "\n",
    "            images = np.vstack((images, img))\n",
    "    return images[1:]"
   ]
  },
  {
   "cell_type": "code",
   "execution_count": 19,
   "metadata": {},
   "outputs": [
    {
     "name": "stdout",
     "output_type": "stream",
     "text": [
      "(12630, 32, 32, 3)\n"
     ]
    },
    {
     "data": {
      "text/plain": [
       "dict_keys(['test_images'])"
      ]
     },
     "execution_count": 19,
     "metadata": {},
     "output_type": "execute_result"
    }
   ],
   "source": [
    "test_images = preprocess_test_images(test_images_dir)\n",
    "print(test_images.shape)\n",
    "test_dict = {'test_images':test_images}\n",
    "test_dict.keys()"
   ]
  },
  {
   "cell_type": "code",
   "execution_count": 20,
   "metadata": {},
   "outputs": [],
   "source": [
    "with open(test_file, mode='wb') as f:\n",
    "    pickle.dump(test_dict, f)"
   ]
  },
  {
   "cell_type": "code",
   "execution_count": null,
   "metadata": {},
   "outputs": [],
   "source": []
  }
 ],
 "metadata": {
  "kernelspec": {
   "display_name": "Python 3",
   "language": "python",
   "name": "python3"
  },
  "language_info": {
   "codemirror_mode": {
    "name": "ipython",
    "version": 3
   },
   "file_extension": ".py",
   "mimetype": "text/x-python",
   "name": "python",
   "nbconvert_exporter": "python",
   "pygments_lexer": "ipython3",
   "version": "3.6.5"
  }
 },
 "nbformat": 4,
 "nbformat_minor": 2
}
