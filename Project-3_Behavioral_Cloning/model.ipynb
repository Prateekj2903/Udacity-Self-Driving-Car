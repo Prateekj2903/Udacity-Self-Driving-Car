{
 "cells": [
  {
   "cell_type": "code",
   "execution_count": 1,
   "metadata": {
    "scrolled": true
   },
   "outputs": [
    {
     "name": "stderr",
     "output_type": "stream",
     "text": [
      "C:\\Users\\windo\\Anaconda3\\lib\\site-packages\\h5py\\__init__.py:36: FutureWarning: Conversion of the second argument of issubdtype from `float` to `np.floating` is deprecated. In future, it will be treated as `np.float64 == np.dtype(float).type`.\n",
      "  from ._conv import register_converters as _register_converters\n",
      "Using TensorFlow backend.\n"
     ]
    }
   ],
   "source": [
    "import keras\n",
    "from keras.models import Model\n",
    "from keras.layers import Input, Conv2D, Flatten , Dense, Dropout, Lambda\n",
    "from keras.callbacks import ModelCheckpoint, CSVLogger, EarlyStopping\n",
    "\n",
    "from load_data import split_data, generator"
   ]
  },
  {
   "cell_type": "code",
   "execution_count": 2,
   "metadata": {},
   "outputs": [],
   "source": [
    "batch_size=32\n",
    "augment_data=True\n",
    "bias=0.8\n",
    "no_epochs=50"
   ]
  },
  {
   "cell_type": "code",
   "execution_count": 3,
   "metadata": {},
   "outputs": [],
   "source": [
    "def create_model(input_shape=(66, 200, 3)):\n",
    "    \n",
    "    input_layer = Input(shape=input_shape)\n",
    "    x = Lambda(lambda z: z/127.5 - 1.)(input_layer)\n",
    "    x = Conv2D(filters=24, kernel_size=(5,5), strides=(2,2), activation='elu')(input_layer)\n",
    "    x = Conv2D(filters=36, kernel_size=(5,5), strides=(2,2), activation='elu')(x)\n",
    "    x = Conv2D(filters=48, kernel_size=(5,5), strides=(2,2), activation='elu')(x)\n",
    "    x = Conv2D(filters=64, kernel_size=(3,3), activation='elu')(x)\n",
    "    x = Conv2D(filters=64, kernel_size=(3,3), activation='elu')(x)\n",
    "    x = Dropout(0.5)(x)\n",
    "\n",
    "    x = Flatten()(x)\n",
    "    \n",
    "    x = Dense(units=100, activation='elu')(x)\n",
    "    x = Dense(units=50, activation='elu')(x)\n",
    "    x = Dense(units=10, activation='elu')(x)\n",
    "    output_layer = Dense(units=1)(x)\n",
    "    \n",
    "    model = Model(input=input_layer, output=output_layer)\n",
    "    \n",
    "    print(model.summary())\n",
    "    return model"
   ]
  },
  {
   "cell_type": "code",
   "execution_count": 4,
   "metadata": {},
   "outputs": [
    {
     "name": "stdout",
     "output_type": "stream",
     "text": [
      "_________________________________________________________________\n",
      "Layer (type)                 Output Shape              Param #   \n",
      "=================================================================\n",
      "input_1 (InputLayer)         (None, 66, 200, 3)        0         \n",
      "_________________________________________________________________\n",
      "conv2d_1 (Conv2D)            (None, 31, 98, 24)        1824      \n",
      "_________________________________________________________________\n",
      "conv2d_2 (Conv2D)            (None, 14, 47, 36)        21636     \n",
      "_________________________________________________________________\n",
      "conv2d_3 (Conv2D)            (None, 5, 22, 48)         43248     \n",
      "_________________________________________________________________\n",
      "conv2d_4 (Conv2D)            (None, 3, 20, 64)         27712     \n",
      "_________________________________________________________________\n",
      "conv2d_5 (Conv2D)            (None, 1, 18, 64)         36928     \n",
      "_________________________________________________________________\n",
      "dropout_1 (Dropout)          (None, 1, 18, 64)         0         \n",
      "_________________________________________________________________\n",
      "flatten_1 (Flatten)          (None, 1152)              0         \n",
      "_________________________________________________________________\n",
      "dense_1 (Dense)              (None, 100)               115300    \n",
      "_________________________________________________________________\n",
      "dense_2 (Dense)              (None, 50)                5050      \n",
      "_________________________________________________________________\n",
      "dense_3 (Dense)              (None, 10)                510       \n",
      "_________________________________________________________________\n",
      "dense_4 (Dense)              (None, 1)                 11        \n",
      "=================================================================\n",
      "Total params: 252,219\n",
      "Trainable params: 252,219\n",
      "Non-trainable params: 0\n",
      "_________________________________________________________________\n",
      "None\n"
     ]
    },
    {
     "name": "stderr",
     "output_type": "stream",
     "text": [
      "C:\\Users\\windo\\Anaconda3\\lib\\site-packages\\ipykernel_launcher.py:19: UserWarning: Update your `Model` call to the Keras 2 API: `Model(inputs=Tensor(\"in..., outputs=Tensor(\"de...)`\n"
     ]
    }
   ],
   "source": [
    "model = create_model()"
   ]
  },
  {
   "cell_type": "code",
   "execution_count": 5,
   "metadata": {},
   "outputs": [],
   "source": [
    "train_data, validation_data = split_data()"
   ]
  },
  {
   "cell_type": "code",
   "execution_count": 6,
   "metadata": {},
   "outputs": [],
   "source": [
    "model.compile(optimizer='adam', loss='mse')"
   ]
  },
  {
   "cell_type": "code",
   "execution_count": 7,
   "metadata": {},
   "outputs": [
    {
     "name": "stdout",
     "output_type": "stream",
     "text": [
      "Epoch 1/50\n",
      "113/112 [==============================] - 17s 150ms/step - loss: 0.2774 - val_loss: 0.0537\n",
      "Epoch 2/50\n",
      "113/112 [==============================] - 14s 121ms/step - loss: 0.0626 - val_loss: 0.0551\n",
      "Epoch 3/50\n",
      "113/112 [==============================] - 14s 120ms/step - loss: 0.0499 - val_loss: 0.0312\n",
      "Epoch 4/50\n",
      "113/112 [==============================] - 15s 134ms/step - loss: 0.0387 - val_loss: 0.0251\n",
      "Epoch 5/50\n",
      "113/112 [==============================] - 15s 133ms/step - loss: 0.0343 - val_loss: 0.0243\n",
      "Epoch 6/50\n",
      "113/112 [==============================] - 14s 124ms/step - loss: 0.0343 - val_loss: 0.0258\n",
      "Epoch 7/50\n",
      "113/112 [==============================] - 14s 123ms/step - loss: 0.0287 - val_loss: 0.0238\n",
      "Epoch 8/50\n",
      "113/112 [==============================] - 15s 129ms/step - loss: 0.0300 - val_loss: 0.0219\n",
      "Epoch 9/50\n",
      "113/112 [==============================] - 14s 121ms/step - loss: 0.0284 - val_loss: 0.0212\n",
      "Epoch 10/50\n",
      "113/112 [==============================] - 13s 119ms/step - loss: 0.0275 - val_loss: 0.0244\n",
      "Epoch 11/50\n",
      "113/112 [==============================] - 14s 121ms/step - loss: 0.0285 - val_loss: 0.0217\n",
      "Epoch 12/50\n",
      "113/112 [==============================] - 14s 121ms/step - loss: 0.0257 - val_loss: 0.0201\n",
      "Epoch 13/50\n",
      "113/112 [==============================] - 14s 126ms/step - loss: 0.0258 - val_loss: 0.0201\n",
      "Epoch 14/50\n",
      "113/112 [==============================] - 13s 119ms/step - loss: 0.0237 - val_loss: 0.0255\n",
      "Epoch 15/50\n",
      "113/112 [==============================] - 13s 119ms/step - loss: 0.0235 - val_loss: 0.0209\n",
      "Epoch 16/50\n",
      "113/112 [==============================] - 13s 119ms/step - loss: 0.0242 - val_loss: 0.0223\n",
      "Epoch 17/50\n",
      "113/112 [==============================] - 13s 119ms/step - loss: 0.0239 - val_loss: 0.0217\n",
      "Epoch 18/50\n",
      "113/112 [==============================] - 14s 121ms/step - loss: 0.0252 - val_loss: 0.0198\n",
      "Epoch 19/50\n",
      "113/112 [==============================] - 13s 118ms/step - loss: 0.0234 - val_loss: 0.0206\n",
      "Epoch 20/50\n",
      "113/112 [==============================] - 13s 119ms/step - loss: 0.0381 - val_loss: 0.0390\n",
      "Epoch 21/50\n",
      "113/112 [==============================] - 15s 129ms/step - loss: 0.0358 - val_loss: 0.0240\n",
      "Epoch 22/50\n",
      "113/112 [==============================] - 15s 129ms/step - loss: 0.0319 - val_loss: 0.0282\n"
     ]
    },
    {
     "data": {
      "text/plain": [
       "<keras.callbacks.History at 0x19990cb10b8>"
      ]
     },
     "execution_count": 7,
     "metadata": {},
     "output_type": "execute_result"
    }
   ],
   "source": [
    "checkpointer = ModelCheckpoint('checkpoints/weights.{epoch:02d}-{val_loss:.3f}.hdf5')\n",
    "logger = CSVLogger(filename='logs/history.csv')\n",
    "early_stop = EarlyStopping(monitor='val_loss', min_delta=0.005, patience=10)\n",
    "\n",
    "with open('logs/model.json', 'w') as f:\n",
    "    f.write(model.to_json())\n",
    "\n",
    "model.fit_generator(generator=generator(train_data, batch_size=batch_size, augment_data=augment_data, bias=bias),\n",
    "                     steps_per_epoch=len(train_data)/batch_size,\n",
    "                     epochs=no_epochs,\n",
    "                     validation_data=generator(validation_data, augment_data=False, bias=1.0),\n",
    "                     validation_steps=len(validation_data)/batch_size,\n",
    "                     callbacks=[checkpointer, logger, early_stop])"
   ]
  },
  {
   "cell_type": "code",
   "execution_count": null,
   "metadata": {},
   "outputs": [],
   "source": []
  }
 ],
 "metadata": {
  "kernelspec": {
   "display_name": "Python 3",
   "language": "python",
   "name": "python3"
  },
  "language_info": {
   "codemirror_mode": {
    "name": "ipython",
    "version": 3
   },
   "file_extension": ".py",
   "mimetype": "text/x-python",
   "name": "python",
   "nbconvert_exporter": "python",
   "pygments_lexer": "ipython3",
   "version": "3.6.5"
  }
 },
 "nbformat": 4,
 "nbformat_minor": 2
}
