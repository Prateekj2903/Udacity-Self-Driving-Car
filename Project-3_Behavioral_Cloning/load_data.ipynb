{
 "cells": [
  {
   "cell_type": "code",
   "execution_count": 19,
   "metadata": {},
   "outputs": [],
   "source": [
    "import os\n",
    "import numpy as np\n",
    "import pandas as pd\n",
    "import cv2\n",
    "# import matplotlib.pyplot as plt\n",
    "# from sklearn.utils import shuffle\n",
    "from sklearn.model_selection import train_test_split\n",
    "import random"
   ]
  },
  {
   "cell_type": "code",
   "execution_count": 20,
   "metadata": {},
   "outputs": [],
   "source": [
    "cwd = os.getcwd()\n",
    "data_dir = \"C:\\\\Users\\\\windo\\\\Desktop\\\\beta_simulator_windows\\\\New folder\"\n",
    "log_file_dir = os.path.join(data_dir, \"driving_log.csv\")\n",
    "img_dir = os.path.join(data_dir, \"IMG\")"
   ]
  },
  {
   "cell_type": "code",
   "execution_count": 21,
   "metadata": {},
   "outputs": [],
   "source": [
    "batch_size = 32\n",
    "img_h = 66\n",
    "img_w = 200\n",
    "num_channels = 3\n",
    "bias = 0.5\n",
    "delta_correlation = 0.25"
   ]
  },
  {
   "cell_type": "code",
   "execution_count": 22,
   "metadata": {},
   "outputs": [],
   "source": [
    "# os.listdir(data_dir)"
   ]
  },
  {
   "cell_type": "code",
   "execution_count": 70,
   "metadata": {},
   "outputs": [],
   "source": [
    "def split_data(test_size=0.2):\n",
    "    cols = [\"left\", \"center\", \"right\", \"steer\", \"throttle\", \"brake\", \"speed\"]\n",
    "    csv = pd.read_csv(log_file_dir, names=cols)\n",
    "    csv = csv.values\n",
    "    train_data, validation_data = train_test_split(csv, test_size=test_size)\n",
    "    return train_data, validation_data"
   ]
  },
  {
   "cell_type": "code",
   "execution_count": 71,
   "metadata": {},
   "outputs": [],
   "source": [
    "def preprocess_img(img):\n",
    "    cropped_img = img[range(20, 120), :, :]\n",
    "    resized_img = cv2.resize(cropped_img, (img_w, img_h), interpolation=cv2.INTER_CUBIC)\n",
    "    return resized_img.astype('float32')\n",
    "\n",
    "def load_batch(data, batch_size=batch_size, augment_data=True, bias=0.8):\n",
    "    x = np.zeros(shape=(1, img_h, img_w, num_channels), dtype=np.float32)\n",
    "    y_steer = np.zeros(shape=(1), dtype=np.float32)\n",
    "    \n",
    "    while len(x) <= batch_size:\n",
    "        idx = np.random.choice(len(data))\n",
    "        ct_path, lt_path, rt_path, steer, throttle, brake, speed = data[idx]\n",
    "        steer = np.float32(steer)\n",
    "        cam_choice = np.random.choice(['center', 'left', 'right'])\n",
    "        if cam_choice == 'center':\n",
    "            img_path = ct_path\n",
    "            steer = steer\n",
    "        elif cam_choice == 'left':\n",
    "            img_path = lt_path\n",
    "            steer = steer + delta_correlation\n",
    "        elif cam_choice == 'right':\n",
    "            img_path = rt_path\n",
    "            steer = steer - delta_correlation\n",
    "        \n",
    "        if (abs(steer) + bias) < np.random.rand():\n",
    "            pass\n",
    "        \n",
    "        img = cv2.imread(img_path)\n",
    "        img = preprocess_img(img)    \n",
    "        if augment_data:\n",
    "            \n",
    "            if random.choice([True, False]):\n",
    "                img = img[:, ::-1, :]\n",
    "                steer *= -1.\n",
    "            \n",
    "            #change brightness randomly\n",
    "            img = cv2.cvtColor(img, cv2.COLOR_BGR2HSV)\n",
    "            img[:, :, 2] *= random.uniform(a=0.2, b=1.5)\n",
    "            img[:, :, 2] = np.clip(img[:, :, 2], a_min=0, a_max=255)\n",
    "            img = cv2.cvtColor(img, cv2.COLOR_HSV2BGR)\n",
    "        \n",
    "        img = np.expand_dims(img, 0)\n",
    "        x = np.vstack([x, img])\n",
    "        y_steer = np.hstack([y_steer, steer])\n",
    "        \n",
    "    return x[1:], y_steer[1:]\n",
    "\n",
    "def generator(data, batch_size=batch_size, augment_data=True, bias=0.8):\n",
    "    while True:\n",
    "        x, y = load_batch(data, batch_size, augment_data, bias)\n",
    "        yield x, y"
   ]
  },
  {
   "cell_type": "code",
   "execution_count": 76,
   "metadata": {},
   "outputs": [],
   "source": [
    "# t, v = split_data()\n",
    "# x, y = next(generator(t))\n",
    "# print(x.shape, y.shape)"
   ]
  }
 ],
 "metadata": {
  "kernelspec": {
   "display_name": "Python 3",
   "language": "python",
   "name": "python3"
  },
  "language_info": {
   "codemirror_mode": {
    "name": "ipython",
    "version": 3
   },
   "file_extension": ".py",
   "mimetype": "text/x-python",
   "name": "python",
   "nbconvert_exporter": "python",
   "pygments_lexer": "ipython3",
   "version": "3.6.5"
  }
 },
 "nbformat": 4,
 "nbformat_minor": 2
}
